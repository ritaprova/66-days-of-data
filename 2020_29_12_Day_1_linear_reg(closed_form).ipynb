{
  "nbformat": 4,
  "nbformat_minor": 0,
  "metadata": {
    "colab": {
      "name": "29_12_Day_1_linear reg(closed form)",
      "provenance": [],
      "authorship_tag": "ABX9TyNWaFcM9Z2ov5dD45D1N2o5",
      "include_colab_link": true
    },
    "kernelspec": {
      "name": "python3",
      "display_name": "Python 3"
    }
  },
  "cells": [
    {
      "cell_type": "markdown",
      "metadata": {
        "id": "view-in-github",
        "colab_type": "text"
      },
      "source": [
        "<a href=\"https://colab.research.google.com/github/ritaprova/66-days-of-data/blob/main/29_12_Day_1_linear_reg(closed_form).ipynb\" target=\"_parent\"><img src=\"https://colab.research.google.com/assets/colab-badge.svg\" alt=\"Open In Colab\"/></a>"
      ]
    },
    {
      "cell_type": "markdown",
      "metadata": {
        "id": "A_muHf5WoIJt"
      },
      "source": [
        "* Linear regression : This is computed using a closed form equation, the normal equation which gives us the value of the parameter vector theta. \r\n",
        "\r\n",
        "\r\n",
        "theta = np.linalg.inv(X.T.dot(X)).dot(X.T).dot(y)"
      ]
    },
    {
      "cell_type": "code",
      "metadata": {
        "colab": {
          "base_uri": "https://localhost:8080/",
          "height": 406
        },
        "id": "8R3ZaAsBqRrh",
        "outputId": "ac51f040-70c4-4e92-dead-ad0cccc07d18"
      },
      "source": [
        "#creating the data \r\n",
        "import seaborn as sns\r\n",
        "import numpy as np\r\n",
        "import matplotlib.pyplot as plt\r\n",
        "np.random.seed(1)\r\n",
        "plt.figure(figsize=(8,5))\r\n",
        "X = 2* np.random.rand(100,1)\r\n",
        "y = 4 + 3*X + np.random.randn(100,1) #y=mx+c + noise\r\n",
        "sns.set()\r\n",
        "plt.scatter(X,y)\r\n",
        "#using the estimate of the parameter vector\r\n",
        "#since the  estimate is y = theta0(x0)+theta1(x1)+theta2(x2)+theta3(x3)+....+thetan(xn) \r\n",
        "#or y = theta.T.dot(x)  [x0=1 and hece theta0 is the bias term] / note that here theta1 which is the coef of x1 , is the slope , our X matrix being 2 dimentional \r\n",
        "X_b = np.c_[np.ones((100, 1)), X] # adding x0 = 1 to each instance\r\n",
        "theta_best = np.linalg.inv(X_b.T.dot(X_b)).dot(X_b.T).dot(y)\r\n",
        "print(\"theta _ best : \", theta_best)\r\n",
        "# printing the best fit line \r\n",
        "#X_new = 2*np.random.rand(100,1)\r\n",
        "#Y_new = 4.23695725+2.84246254*X_new\r\n",
        "#plt.scatter(X_new,Y_new)\r\n",
        "#using the line plot \r\n",
        "X_n = np.array([[0],[2]]) #using the 2 most exteme values in the plot \r\n",
        "X_n_b = np.c_[np.ones((2,1)),X_n]\r\n",
        "y_pred = X_n_b.dot(theta_best)\r\n",
        "print(\"the predicted values are : \",y_pred)\r\n",
        "#using the 2 pred values for the line plot\r\n",
        "plt.plot(X_n,y_pred,\"r-\")"
      ],
      "execution_count": 25,
      "outputs": [
        {
          "output_type": "stream",
          "text": [
            "theta _ best :  [[4.23695725]\n",
            " [2.84246254]]\n",
            "the predicted values are :  [[4.23695725]\n",
            " [9.92188234]]\n"
          ],
          "name": "stdout"
        },
        {
          "output_type": "execute_result",
          "data": {
            "text/plain": [
              "[<matplotlib.lines.Line2D at 0x7fe8366dd208>]"
            ]
          },
          "metadata": {
            "tags": []
          },
          "execution_count": 25
        },
        {
          "output_type": "display_data",
          "data": {
            "image/png": "[encoded data removed]",
            "text/plain": [
              "<Figure size 576x360 with 1 Axes>"
            ]
          },
          "metadata": {
            "tags": []
          }
        }
      ]
    },
    {
      "cell_type": "markdown",
      "metadata": {
        "id": "GdPRAJK3q9HC"
      },
      "source": [
        "thus we see that the estimates come out to be 4.2 for the bias as compared to 4 and 2.8 fro the slope as compared to 3"
      ]
    },
    {
      "cell_type": "code",
      "metadata": {
        "colab": {
          "base_uri": "https://localhost:8080/"
        },
        "id": "sO0x8d_7uf_s",
        "outputId": "06f2ec52-c493-4c7a-a2cb-c7a1a8283a93"
      },
      "source": [
        "#using sklearn \r\n",
        "import pandas as pd \r\n",
        "from sklearn.linear_model import LinearRegression\r\n",
        "reg1 = LinearRegression()\r\n",
        "reg1.fit(X,y)#fitting \r\n",
        "#checking the intercept and the coef \r\n",
        "print(\"slope  : \",reg1.coef_)\r\n",
        "print(\"intercept :  \",reg1.intercept_)"
      ],
      "execution_count": 23,
      "outputs": [
        {
          "output_type": "stream",
          "text": [
            "slope  :  [[2.84246254]]\n",
            "intercept :   [4.23695725]\n"
          ],
          "name": "stdout"
        }
      ]
    },
    {
      "cell_type": "markdown",
      "metadata": {
        "id": "38LdXgPMxQ_Z"
      },
      "source": [
        "Note: It must be noted that the scikit learn uses a more of the svd approad that calculates the moore penrose inverse , which reduces the time complexity od the linear regression "
      ]
    }
  ]
}
